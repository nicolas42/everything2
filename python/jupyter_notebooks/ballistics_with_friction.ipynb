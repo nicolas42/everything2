{
 "cells": [
  {
   "cell_type": "markdown",
   "id": "b400ca5e",
   "metadata": {},
   "source": [
    "# Ballistics with Air Resistance\n",
    "\n",
    "The gravitational force is constant if the altitude doesn't change too much.  The force of air resistance is proportional to the square of the velocity, apparently.\n",
    "\n",
    "$$ F_g = -m g \\hat y $$\n",
    "\n",
    "$$ F_f = -b |v|^2 \\hat v $$\n",
    "\n",
    "Add all the forces!  The total force is the gravitational force plus the friction force.\n",
    "\n",
    "$$ F_t = F_g + F_f = m \\frac {d \\vec v}{dt} = -m g \\hat y + -b |\\vec v|^2 \\hat v $$\n",
    "\n",
    "Decompose vectors into orthogonal components\n",
    "\n",
    "$$ \n",
    "m ( \\frac {dv_x}{dt} \\hat x + \\frac {dv_y}{dt} \\hat y ) \n",
    "= -m g \\hat y  -b \\sqrt{ v_x^2 + v_y^2 } \\cdot ( v_x \\hat x + v_y \\hat y )\n",
    "$$\n",
    "\n",
    "Separate the x and y components into equations\n",
    "\n",
    "$$ \\frac {dv_x}{dt} = -\\frac{ b v_x } {m} \\sqrt{ v_x^2 + v_y^2 } $$\n",
    "$$ \\frac {dv_y}{dt} = \\frac{-b v_y}{m} \\sqrt{ v_x^2 + v_y^2 } -g  $$\n",
    "\n",
    "\n",
    "This is a \"system\" of ordinary differential equations - equations whose solutions are equations.  Brilliant.\n",
    "\n",
    "Apparently scipy can do this kind of thing\n",
    "\n"
   ]
  },
  {
   "cell_type": "markdown",
   "id": "24e808f3",
   "metadata": {},
   "source": [
    "An 80kg person jumps out of an airplane moving at 50m/s horizontally.  Terminal velocity is -55m/s.  Find the velocity and how long it takes to get within 1% of terminal velocity.\n",
    "\n",
    "\n",
    "The parameter b, which is a proportionality constant of the air resistance, can be found using the terminal velocity.  At terminal velocity the force from the air cancels out the gravitational force\n",
    "so there's no net acceleration.\n",
    "\n",
    "$$ -mg \\hat y + -bv_t^2 (-\\hat y) = 0 $$ \n",
    "\n",
    "The velocity vector points downwards so $ \\hat v_t=- \\hat y$\n",
    "\n",
    "$$ -mg + b v_t^2 = 0 $$ \n",
    "\n",
    "$$ b = \\frac{mg}{v_t^2} $$\n"
   ]
  },
  {
   "cell_type": "code",
   "execution_count": 16,
   "id": "83656111",
   "metadata": {},
   "outputs": [],
   "source": [
    "import numpy as np\n",
    "import matplotlib.pyplot as plt\n",
    "from scipy.integrate import odeint\n",
    "\n",
    "# return the acceleration ( dvx/dt, dvy/dt ) given the necessary parameters (see the equations above).\n",
    "def dvdt( v,t,m,g,vt ):\n",
    "    vx=v[0]\n",
    "    vy=v[1]\n",
    "    b = m*g/abs(vt)**2 # At terminal velocity m g = b |vt|**2 so b = m*g/|vt|**2\n",
    "    return [ \n",
    "        -b*vx/m * np.sqrt(vx**2+vy**2), #dvx/dt\n",
    "        -b*vy/m * np.sqrt(vx**2+vy**2) -g  #dvy/dt\n",
    "    ] \n",
    "\n",
    "\n",
    "t= np.linspace(0,20,100)\n",
    "m=80\n",
    "g=9.81\n",
    "vt=-55\n",
    "b=m*g/vt**2\n",
    "v0x,v0y = 50, 0\n",
    "\n",
    "solution = odeint(func=dvdt, y0=[v0x,v0y], t=t, args=(m,g,vt))\n"
   ]
  },
  {
   "cell_type": "code",
   "execution_count": 17,
   "id": "6c5fe508",
   "metadata": {},
   "outputs": [
    {
     "data": {
      "text/plain": [
       "<matplotlib.lines.Line2D at 0x12644fa30>"
      ]
     },
     "execution_count": 17,
     "metadata": {},
     "output_type": "execute_result"
    },
    {
     "data": {
      "image/png": "[encoded data removed]",
      "text/plain": [
       "<Figure size 432x288 with 1 Axes>"
      ]
     },
     "metadata": {
      "needs_background": "light"
     },
     "output_type": "display_data"
    }
   ],
   "source": [
    "\n",
    "solution = solution.transpose()\n",
    "\n",
    "plt.xlabel(\"time (s)\")\n",
    "plt.plot(t,solution[0], solution[1])\n",
    "plt.axhline(y=-55, color='r', linestyle='-')\n"
   ]
  },
  {
   "cell_type": "code",
   "execution_count": null,
   "id": "2d086843",
   "metadata": {},
   "outputs": [],
   "source": [
    "\n",
    "\n",
    "\n",
    "\n",
    "\n",
    "\n",
    "\n",
    "\n",
    "\n",
    "\n",
    "\n",
    "\n",
    "\n",
    "\n",
    "\n"
   ]
  },
  {
   "cell_type": "code",
   "execution_count": null,
   "id": "ea654a07",
   "metadata": {},
   "outputs": [],
   "source": []
  }
 ],
 "metadata": {
  "kernelspec": {
   "display_name": "Python 3 (ipykernel)",
   "language": "python",
   "name": "python3"
  },
  "language_info": {
   "codemirror_mode": {
    "name": "ipython",
    "version": 3
   },
   "file_extension": ".py",
   "mimetype": "text/x-python",
   "name": "python",
   "nbconvert_exporter": "python",
   "pygments_lexer": "ipython3",
   "version": "3.9.2"
  }
 },
 "nbformat": 4,
 "nbformat_minor": 5
}
